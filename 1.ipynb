{
 "cells": [
  {
   "cell_type": "markdown",
   "id": "7be33237",
   "metadata": {},
   "source": [
    "##feature1\n",
    "1) added 1 feature from feature1"
   ]
  },
  {
   "cell_type": "markdown",
   "id": "e40d6551",
   "metadata": {},
   "source": [
    "##feature2\n",
    "2) added feature2"
   ]
  }
 ],
 "metadata": {
  "language_info": {
   "name": "python"
  }
 },
 "nbformat": 4,
 "nbformat_minor": 5
}
