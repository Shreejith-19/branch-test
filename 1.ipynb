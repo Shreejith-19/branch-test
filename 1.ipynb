{
 "cells": [
  {
   "cell_type": "markdown",
   "id": "7be33237",
   "metadata": {},
   "source": [
    "##feature1"
   ]
  },
  {
   "cell_type": "markdown",
   "id": "e40d6551",
   "metadata": {},
   "source": [
    "##feature2"
   ]
  }
 ],
 "metadata": {
  "language_info": {
   "name": "python"
  }
 },
 "nbformat": 4,
 "nbformat_minor": 5
}
